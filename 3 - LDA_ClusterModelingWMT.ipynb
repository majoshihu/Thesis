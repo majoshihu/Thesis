{
 "cells": [
  {
   "cell_type": "code",
   "execution_count": 1,
   "metadata": {},
   "outputs": [],
   "source": [
    "from sklearn.feature_extraction.text import CountVectorizer\n",
    "from sklearn.decomposition import LatentDirichletAllocation\n",
    "import nltk, re\n",
    "from nltk.stem.wordnet import WordNetLemmatizer\n",
    "\n",
    "stopwords = set(nltk.corpus.stopwords.words('english'))\n"
   ]
  },
  {
   "cell_type": "code",
   "execution_count": 2,
   "metadata": {},
   "outputs": [],
   "source": [
    "import json\n",
    "## reading the json file\n",
    "with open('C:\\\\Users\\\\Mansi\\\\Documents\\\\Harrisburg classes\\\\Sem 7 - 699\\\\ProjectCollaterals_610_MansiJoshi_20180817\\\\WMT\\\\data_feedsWMT.json') as json_datafeeds:\n",
    "    load_datafeeds = json.load(json_datafeeds)"
   ]
  },
  {
   "cell_type": "code",
   "execution_count": 3,
   "metadata": {
    "scrolled": true
   },
   "outputs": [
    {
     "name": "stdout",
     "output_type": "stream",
     "text": [
      "Total number of titles: 68074\n"
     ]
    }
   ],
   "source": [
    "feed_titles2 = []\n",
    "\n",
    "for feed in load_datafeeds:\n",
    "    feed_titles2.append(str(feed['title']))\n",
    "\n",
    "print(\"Total number of titles: \" + str(len(feed_titles2)))\n"
   ]
  },
  {
   "cell_type": "code",
   "execution_count": 4,
   "metadata": {},
   "outputs": [],
   "source": [
    "def tokenize_titles(title):\n",
    "    tokens = nltk.word_tokenize(title)\n",
    "    lmtzr = WordNetLemmatizer()\n",
    "    filtered_tokens = []\n",
    "    \n",
    "    for token in tokens:\n",
    "        token = token.replace(\"'s\", \" \").replace(\"n’t\", \" not\").replace(\"’ve\", \" have\")\n",
    "        token = re.sub(r'[^a-zA-Z0-9 ]', '', token)\n",
    "        if token not in stopwords:\n",
    "            filtered_tokens.append(token.lower())\n",
    "    \n",
    "    lemmas = [lmtzr.lemmatize(t,'v') for t in filtered_tokens]\n",
    "\n",
    "    return lemmas"
   ]
  },
  {
   "cell_type": "code",
   "execution_count": 5,
   "metadata": {},
   "outputs": [],
   "source": [
    "def clstr_lda(num_topics, stories):\n",
    "    # top words to be identified\n",
    "    n_top_words = 100\n",
    "\n",
    "    tf_vectorizer = CountVectorizer(max_df=500, min_df=2, max_features=50,  ##Orig max_df=90, min_df=2, max_features=1000\n",
    "                                    tokenizer=tokenize_titles, ngram_range=(2,3))\n",
    "\n",
    "    tf = tf_vectorizer.fit_transform(stories)\n",
    "\n",
    "    lda = LatentDirichletAllocation(n_components=num_topics, max_iter=30,   ##Orig max_iter=3000\n",
    "                                    learning_method='batch', learning_offset=10.,\n",
    "                                    random_state = 1)\n",
    "    lda.fit(tf)\n",
    "    tf_feature_names = tf_vectorizer.get_feature_names()\n",
    "\n",
    "    # print top topic words\n",
    "    topics = dict()\n",
    "    for topic_idx, topic in enumerate(lda.components_):\n",
    "        topics[topic_idx] = [tf_feature_names[i] for i in topic.argsort()[:-n_top_words - 1:-1]]\n",
    "        print(\"Topic #%d:\" % topic_idx)\n",
    "        print(\" | \".join([tf_feature_names[i] for i in topic.argsort()[:-n_top_words - 1:-1]]))\n",
    "        \n",
    "    return topics"
   ]
  },
  {
   "cell_type": "code",
   "execution_count": 6,
   "metadata": {},
   "outputs": [
    {
     "name": "stdout",
     "output_type": "stream",
     "text": [
      "Topic #0:\n",
      " 100 |  1 |   100 | post  | ship  | new  | gift card | sale  | save  | deal  | reg   | walmart   |  reg  | reg  |  reg |  walmart  |  save |  amazon | set  |  5 |  40 |  50 |  3 | amazon  |  25 |  20 |  get | free ship |   50 |  10 |  30 |  15 |   walmart | news  |  free ship | price  |  news |  35 |   20 | minimum wage |  page |  2019 | 2019  |  march | inc  wmt |  13 | walmart inc | walmart inc  | part time | retail merchandiser\n",
      "Topic #1:\n",
      "minimum wage |  13 | save  |  save | ship  | deal  | post  |  15 | walmart   |  30 | sale  |  100 |  10 |  news | amazon  |  5 |  20 | news  |  3 |  50 |  amazon |  40 |  35 |   100 |   walmart | set  |  1 | new  |  get |  25 |  walmart  | gift card | price  |  march | free ship | 2019  |  free ship |   20 |  reg  | reg  |  reg |  2019 |   50 |  page | inc  wmt | reg   | walmart inc | walmart inc  | part time | retail merchandiser\n",
      "Topic #2:\n",
      " 15 | part time | retail merchandiser | minimum wage |  13 |  5 |  25 | new  | post  | gift card |  march | news  |  amazon |  3 | sale  | amazon  |  reg  | reg  |  reg | 2019  |  news |  10 | reg   |  20 | ship  |  50 | set  |  walmart  |   walmart | deal  | free ship |   50 |  get |  1 |  100 |  free ship |  save |   20 |   100 | walmart   |  40 |  2019 |  30 | price  |  page |  35 | save  | inc  wmt | walmart inc | walmart inc \n",
      "Topic #3:\n",
      " reg | reg  |  reg  |  10 | news  |  5 | reg   |  news | post  | ship  | sale  | set  |  40 | amazon  |  50 | free ship |  free ship |  25 | price  |  amazon |  35 |  15 |   100 |  100 |   20 |  30 |  walmart  |  20 |   50 | walmart   | new  | gift card |   walmart | deal  |  3 | 2019  |  march |  2019 | save  |  save |  1 |  13 |  get | minimum wage |  page | retail merchandiser | part time | inc  wmt | walmart inc | walmart inc \n",
      "Topic #4:\n",
      " 2019 | free ship | walmart   |  free ship | gift card |  march | ship  |  walmart  | 2019  | price  |  35 | set  | news  |  40 |  amazon |  5 |  10 |  reg  | reg  |  reg | amazon  |   walmart | deal  | sale  |  20 |  50 |  25 | save  |  100 |  news |  page |  get |  1 |  3 |   50 |  15 | new  |   100 |   20 |  save |  13 |  30 | minimum wage | post  | reg   | walmart inc  | walmart inc | inc  wmt | part time | retail merchandiser\n",
      "Topic #5:\n",
      " 20 |   walmart |  25 |   20 |  walmart  | walmart   | new  | sale  | deal  | price  | post  | gift card | ship  |  10 | reg   | amazon  |  amazon |  40 | set  |  reg |  5 |  reg  | reg  | save  |  15 |  news |  50 | minimum wage |  1 | free ship | news  |  3 |  free ship |  30 |  save | 2019  |  2019 |  get |  100 |  35 |   100 | walmart inc  | walmart inc |   50 |  march | inc  wmt |  13 |  page | part time | retail merchandiser\n",
      "Topic #6:\n",
      "inc  wmt | walmart inc | walmart inc  |  30 | new  |  40 |  5 |  10 | set  | save  |  25 | walmart   |   walmart |  save |  2019 | sale  |   100 |  3 | post  |  35 |  1 |  50 |  20 | deal  |  walmart  |   20 |  15 |  100 |   50 |  reg  | reg  |  reg | price  | reg   |  get |  13 | ship  | amazon  |  free ship | free ship | news  | gift card | 2019  |  march |  news |  amazon |  page | minimum wage | part time | retail merchandiser\n",
      "Topic #7:\n",
      "deal  | set  | price  | 2019  |  3 |  2019 |  walmart  |   walmart |  save | walmart   | ship  | new  |  10 |  5 |  amazon |  march | amazon  | news  |  40 |  30 |  news |  20 |  reg |  free ship |  100 | free ship | post  |  page | save  |  50 | reg  |  25 |  reg  |  1 | sale  |  35 |  get | reg   |  15 | gift card |   50 |  13 |   100 |   20 | walmart inc | minimum wage | inc  wmt | walmart inc  | part time | retail merchandiser\n",
      "Topic #8:\n",
      " get |  35 |  page | ship  | walmart   | 2019  |  walmart  | gift card |  5 | sale  | post  | free ship |  free ship | deal  |  40 | new  |  1 |  10 | set  | reg   |  news |  save | save  |  2019 |  20 |  3 |  25 | news  |  50 |  reg  | reg  |  reg | price  |  13 |  30 |   walmart |  march |  amazon |  15 |   50 | amazon  |  100 | minimum wage | inc  wmt |   20 | walmart inc | walmart inc  |   100 | part time | retail merchandiser\n",
      "Topic #9:\n",
      " 50 |  walmart  | sale  | amazon  |   50 |  40 |  amazon | gift card | ship  | walmart   | post  |   walmart | deal  |  news | price  | new  |  5 |  10 | free ship | reg   | minimum wage |  30 |  reg  | reg  |  reg |  20 | set  | news  |  100 |  3 |  1 |  free ship |  35 | save  |  25 |  15 |  save | 2019  |  2019 |   100 |   20 |  13 |  page |  get |  march | inc  wmt | walmart inc | walmart inc  | part time | retail merchandiser\n"
     ]
    }
   ],
   "source": [
    "##topics = clstr_lda(10, feed_titles2)## Original combination\n",
    "topics = clstr_lda(10, feed_titles2)"
   ]
  },
  {
   "cell_type": "code",
   "execution_count": 7,
   "metadata": {},
   "outputs": [
    {
     "name": "stdout",
     "output_type": "stream",
     "text": [
      "{0: [' 100', ' 1', '  100', 'post ', 'ship ', 'new ', 'gift card', 'sale ', 'save ', 'deal ', 'reg  ', 'walmart  ', ' reg ', 'reg ', ' reg', ' walmart ', ' save', ' amazon', 'set ', ' 5', ' 40', ' 50', ' 3', 'amazon ', ' 25', ' 20', ' get', 'free ship', '  50', ' 10', ' 30', ' 15', '  walmart', 'news ', ' free ship', 'price ', ' news', ' 35', '  20', 'minimum wage', ' page', ' 2019', '2019 ', ' march', 'inc  wmt', ' 13', 'walmart inc', 'walmart inc ', 'part time', 'retail merchandiser'], 1: ['minimum wage', ' 13', 'save ', ' save', 'ship ', 'deal ', 'post ', ' 15', 'walmart  ', ' 30', 'sale ', ' 100', ' 10', ' news', 'amazon ', ' 5', ' 20', 'news ', ' 3', ' 50', ' amazon', ' 40', ' 35', '  100', '  walmart', 'set ', ' 1', 'new ', ' get', ' 25', ' walmart ', 'gift card', 'price ', ' march', 'free ship', '2019 ', ' free ship', '  20', ' reg ', 'reg ', ' reg', ' 2019', '  50', ' page', 'inc  wmt', 'reg  ', 'walmart inc', 'walmart inc ', 'part time', 'retail merchandiser'], 2: [' 15', 'part time', 'retail merchandiser', 'minimum wage', ' 13', ' 5', ' 25', 'new ', 'post ', 'gift card', ' march', 'news ', ' amazon', ' 3', 'sale ', 'amazon ', ' reg ', 'reg ', ' reg', '2019 ', ' news', ' 10', 'reg  ', ' 20', 'ship ', ' 50', 'set ', ' walmart ', '  walmart', 'deal ', 'free ship', '  50', ' get', ' 1', ' 100', ' free ship', ' save', '  20', '  100', 'walmart  ', ' 40', ' 2019', ' 30', 'price ', ' page', ' 35', 'save ', 'inc  wmt', 'walmart inc', 'walmart inc '], 3: [' reg', 'reg ', ' reg ', ' 10', 'news ', ' 5', 'reg  ', ' news', 'post ', 'ship ', 'sale ', 'set ', ' 40', 'amazon ', ' 50', 'free ship', ' free ship', ' 25', 'price ', ' amazon', ' 35', ' 15', '  100', ' 100', '  20', ' 30', ' walmart ', ' 20', '  50', 'walmart  ', 'new ', 'gift card', '  walmart', 'deal ', ' 3', '2019 ', ' march', ' 2019', 'save ', ' save', ' 1', ' 13', ' get', 'minimum wage', ' page', 'retail merchandiser', 'part time', 'inc  wmt', 'walmart inc', 'walmart inc '], 4: [' 2019', 'free ship', 'walmart  ', ' free ship', 'gift card', ' march', 'ship ', ' walmart ', '2019 ', 'price ', ' 35', 'set ', 'news ', ' 40', ' amazon', ' 5', ' 10', ' reg ', 'reg ', ' reg', 'amazon ', '  walmart', 'deal ', 'sale ', ' 20', ' 50', ' 25', 'save ', ' 100', ' news', ' page', ' get', ' 1', ' 3', '  50', ' 15', 'new ', '  100', '  20', ' save', ' 13', ' 30', 'minimum wage', 'post ', 'reg  ', 'walmart inc ', 'walmart inc', 'inc  wmt', 'part time', 'retail merchandiser'], 5: [' 20', '  walmart', ' 25', '  20', ' walmart ', 'walmart  ', 'new ', 'sale ', 'deal ', 'price ', 'post ', 'gift card', 'ship ', ' 10', 'reg  ', 'amazon ', ' amazon', ' 40', 'set ', ' reg', ' 5', ' reg ', 'reg ', 'save ', ' 15', ' news', ' 50', 'minimum wage', ' 1', 'free ship', 'news ', ' 3', ' free ship', ' 30', ' save', '2019 ', ' 2019', ' get', ' 100', ' 35', '  100', 'walmart inc ', 'walmart inc', '  50', ' march', 'inc  wmt', ' 13', ' page', 'part time', 'retail merchandiser'], 6: ['inc  wmt', 'walmart inc', 'walmart inc ', ' 30', 'new ', ' 40', ' 5', ' 10', 'set ', 'save ', ' 25', 'walmart  ', '  walmart', ' save', ' 2019', 'sale ', '  100', ' 3', 'post ', ' 35', ' 1', ' 50', ' 20', 'deal ', ' walmart ', '  20', ' 15', ' 100', '  50', ' reg ', 'reg ', ' reg', 'price ', 'reg  ', ' get', ' 13', 'ship ', 'amazon ', ' free ship', 'free ship', 'news ', 'gift card', '2019 ', ' march', ' news', ' amazon', ' page', 'minimum wage', 'part time', 'retail merchandiser'], 7: ['deal ', 'set ', 'price ', '2019 ', ' 3', ' 2019', ' walmart ', '  walmart', ' save', 'walmart  ', 'ship ', 'new ', ' 10', ' 5', ' amazon', ' march', 'amazon ', 'news ', ' 40', ' 30', ' news', ' 20', ' reg', ' free ship', ' 100', 'free ship', 'post ', ' page', 'save ', ' 50', 'reg ', ' 25', ' reg ', ' 1', 'sale ', ' 35', ' get', 'reg  ', ' 15', 'gift card', '  50', ' 13', '  100', '  20', 'walmart inc', 'minimum wage', 'inc  wmt', 'walmart inc ', 'part time', 'retail merchandiser'], 8: [' get', ' 35', ' page', 'ship ', 'walmart  ', '2019 ', ' walmart ', 'gift card', ' 5', 'sale ', 'post ', 'free ship', ' free ship', 'deal ', ' 40', 'new ', ' 1', ' 10', 'set ', 'reg  ', ' news', ' save', 'save ', ' 2019', ' 20', ' 3', ' 25', 'news ', ' 50', ' reg ', 'reg ', ' reg', 'price ', ' 13', ' 30', '  walmart', ' march', ' amazon', ' 15', '  50', 'amazon ', ' 100', 'minimum wage', 'inc  wmt', '  20', 'walmart inc', 'walmart inc ', '  100', 'part time', 'retail merchandiser'], 9: [' 50', ' walmart ', 'sale ', 'amazon ', '  50', ' 40', ' amazon', 'gift card', 'ship ', 'walmart  ', 'post ', '  walmart', 'deal ', ' news', 'price ', 'new ', ' 5', ' 10', 'free ship', 'reg  ', 'minimum wage', ' 30', ' reg ', 'reg ', ' reg', ' 20', 'set ', 'news ', ' 100', ' 3', ' 1', ' free ship', ' 35', 'save ', ' 25', ' 15', ' save', '2019 ', ' 2019', '  100', '  20', ' 13', ' page', ' get', ' march', 'inc  wmt', 'walmart inc', 'walmart inc ', 'part time', 'retail merchandiser']}\n"
     ]
    }
   ],
   "source": [
    "print(topics)"
   ]
  },
  {
   "cell_type": "code",
   "execution_count": 50,
   "metadata": {
    "collapsed": true
   },
   "outputs": [
    {
     "name": "stdout",
     "output_type": "stream",
     "text": [
      "Topic #0:\n",
      "   | user data | need know | facebook give |  facebook | device makers |  apple  | facebook  | users  | news \n",
      "Topic #1:\n",
      "macos mojave |  ios | macos 1014 | dark mode | wwdc  | users  | device makers |  data | users  data | app store\n",
      "Topic #2:\n",
      "screen time |  iphone | tim cook | apple ceo | ceo tim | ceo tim cook | apple ceo tim | news  |  ios | user data\n",
      "Topic #3:\n",
      "apple watch | apple announce |   new | watchos 5 | new feature |    | wwdc 2018  | news  | iphone  | app store\n",
      "Topic #4:\n",
      "watchos 5 | apple introduce | group facetime | macos mojave |  ios | macos 1014 | 12  | new feature | ios 12  | apple unveil\n",
      "Topic #5:\n",
      " wwdc | apple unveil | apple  wwdc |  wwdc 2018 | iphone  |  apple  | wwdc 2018  | wwdc  |  ios | screen time\n",
      "Topic #6:\n",
      " new | iphone x |  apple  | new feature |   new | wwdc  | facebook  |  ios | screen time | wwdc 2018 \n",
      "Topic #7:\n",
      "12  | ios 12  | new feature | users  |  data | users  data |  ios | macos 1014 | macos mojave | need know\n",
      "Topic #8:\n",
      "wwdc 2018  | app store | apple wwdc | apple tv | apple wwdc 2018 | news  |  ios | iphone  |    |  apple \n",
      "Topic #9:\n",
      " aapl | aapl  |  aapl  | tim cook | facebook  | cook say | tim cook say | ceo tim | ceo tim cook | apple ceo\n"
     ]
    }
   ],
   "source": [
    "##topics2 = clstr_lda(10, feed_titles2)##"
   ]
  },
  {
   "cell_type": "code",
   "execution_count": 1,
   "metadata": {
    "collapsed": true
   },
   "outputs": [
    {
     "ename": "KeyError",
     "evalue": "'WEBHOSE_TOKEN'",
     "output_type": "error",
     "traceback": [
      "\u001b[1;31m---------------------------------------------------------------------------\u001b[0m",
      "\u001b[1;31mKeyError\u001b[0m                                  Traceback (most recent call last)",
      "\u001b[1;32m<ipython-input-1-c3c44e5e6eb9>\u001b[0m in \u001b[0;36m<module>\u001b[1;34m()\u001b[0m\n\u001b[0;32m      7\u001b[0m \u001b[0mstopwords\u001b[0m \u001b[1;33m=\u001b[0m \u001b[0mset\u001b[0m\u001b[1;33m(\u001b[0m\u001b[0mnltk\u001b[0m\u001b[1;33m.\u001b[0m\u001b[0mcorpus\u001b[0m\u001b[1;33m.\u001b[0m\u001b[0mstopwords\u001b[0m\u001b[1;33m.\u001b[0m\u001b[0mwords\u001b[0m\u001b[1;33m(\u001b[0m\u001b[1;34m'english'\u001b[0m\u001b[1;33m)\u001b[0m\u001b[1;33m)\u001b[0m\u001b[1;33m\u001b[0m\u001b[0m\n\u001b[0;32m      8\u001b[0m \u001b[1;33m\u001b[0m\u001b[0m\n\u001b[1;32m----> 9\u001b[1;33m \u001b[0mwebhoseio\u001b[0m\u001b[1;33m.\u001b[0m\u001b[0mconfig\u001b[0m\u001b[1;33m(\u001b[0m\u001b[0mtoken\u001b[0m\u001b[1;33m=\u001b[0m\u001b[0mos\u001b[0m\u001b[1;33m.\u001b[0m\u001b[0menviron\u001b[0m\u001b[1;33m[\u001b[0m\u001b[1;34m'WEBHOSE_TOKEN'\u001b[0m\u001b[1;33m]\u001b[0m\u001b[1;33m)\u001b[0m\u001b[1;33m\u001b[0m\u001b[0m\n\u001b[0m\u001b[0;32m     10\u001b[0m query_params = {\n\u001b[0;32m     11\u001b[0m     \u001b[1;34m\"q\"\u001b[0m\u001b[1;33m:\u001b[0m \u001b[1;34m\"organization:Tesla\"\u001b[0m\u001b[1;33m,\u001b[0m\u001b[1;33m\u001b[0m\u001b[0m\n",
      "\u001b[1;32m~\\Anaconda3\\lib\\os.py\u001b[0m in \u001b[0;36m__getitem__\u001b[1;34m(self, key)\u001b[0m\n\u001b[0;32m    667\u001b[0m         \u001b[1;32mexcept\u001b[0m \u001b[0mKeyError\u001b[0m\u001b[1;33m:\u001b[0m\u001b[1;33m\u001b[0m\u001b[0m\n\u001b[0;32m    668\u001b[0m             \u001b[1;31m# raise KeyError with the original key value\u001b[0m\u001b[1;33m\u001b[0m\u001b[1;33m\u001b[0m\u001b[0m\n\u001b[1;32m--> 669\u001b[1;33m             \u001b[1;32mraise\u001b[0m \u001b[0mKeyError\u001b[0m\u001b[1;33m(\u001b[0m\u001b[0mkey\u001b[0m\u001b[1;33m)\u001b[0m \u001b[1;32mfrom\u001b[0m \u001b[1;32mNone\u001b[0m\u001b[1;33m\u001b[0m\u001b[0m\n\u001b[0m\u001b[0;32m    670\u001b[0m         \u001b[1;32mreturn\u001b[0m \u001b[0mself\u001b[0m\u001b[1;33m.\u001b[0m\u001b[0mdecodevalue\u001b[0m\u001b[1;33m(\u001b[0m\u001b[0mvalue\u001b[0m\u001b[1;33m)\u001b[0m\u001b[1;33m\u001b[0m\u001b[0m\n\u001b[0;32m    671\u001b[0m \u001b[1;33m\u001b[0m\u001b[0m\n",
      "\u001b[1;31mKeyError\u001b[0m: 'WEBHOSE_TOKEN'"
     ]
    }
   ],
   "source": [
    "### Pls ignore - using the old Json file created for HW4\n",
    "\n",
    "import webhoseio, os\n",
    "from sklearn.feature_extraction.text import CountVectorizer\n",
    "from sklearn.decomposition import LatentDirichletAllocation\n",
    "import nltk, re\n",
    "from nltk.stem.wordnet import WordNetLemmatizer\n",
    "\n",
    "stopwords = set(nltk.corpus.stopwords.words('english'))\n",
    "\n",
    "webhoseio.config(token=os.environ['WEBHOSE_TOKEN'])\n",
    "query_params = {\n",
    "    \"q\": \"organization:Tesla\",\n",
    "    \"ts\": \"1523748602856\",\n",
    "    \"sort\": \"crawled\"\n",
    "}"
   ]
  },
  {
   "cell_type": "code",
   "execution_count": 68,
   "metadata": {},
   "outputs": [],
   "source": [
    "### Pls ignore - using the old Json file created for HW4\n",
    "# be careful how many times you make this call\n",
    "# get the first batch\n",
    "output = webhoseio.query(\"filterWebContent\", query_params)"
   ]
  },
  {
   "cell_type": "code",
   "execution_count": null,
   "metadata": {},
   "outputs": [],
   "source": [
    "### Pls ignore - using the old Json file created for HW4\n",
    "output = webhoseio.get_next()"
   ]
  },
  {
   "cell_type": "code",
   "execution_count": 69,
   "metadata": {
    "collapsed": true
   },
   "outputs": [
    {
     "name": "stdout",
     "output_type": "stream",
     "text": [
      "Tesla needs to pull back on Autopilot before it's too late (TSLA)|||2018-04-15T03:23:00.000+03:00\n",
      "Tesla needs to pull back on Autopilot before it's too late|||2018-04-15T05:10:00.000+03:00\n",
      "Tips on how to save money when you travel | TravelWireNews|||2018-04-15T07:46:00.000+03:00\n",
      "Why Tesla may be the most hated stock in America and the most loved|||2018-04-15T03:20:00.000+03:00\n",
      "Why Tesla may be the most hated stock in America -- and the most loved|||2018-04-15T09:13:00.000+03:00\n",
      "Elon Musk's chilling ArtificiaI Intelligence warning|||2018-04-15T09:26:00.000+03:00\n",
      "Investors love or loathe Tesla|||2018-04-15T10:20:00.000+03:00\n",
      "Humans are underrated, excessive automation at Tesla my mistake: Elon Musk|||2018-04-14T22:03:00.000+03:00\n",
      "Tesla (TSLA) Downgraded by Vetr to “Hold”|||2018-04-15T11:26:00.000+03:00\n",
      "Tesla got a ‘dangerous transport’ problem in Norway – NORWAY NEWS|||2018-04-14T21:04:00.000+03:00\n",
      "TeslaCoilCoin Price Up 15.8% Over Last Week (TESLA)|||2018-04-15T17:44:00.000+03:00\n",
      "TeslaCoilCoin (TESLA) Reaches One Day Trading Volume of $755.00|||2018-04-15T16:26:00.000+03:00\n",
      "TeslaCoilCoin (TESLA) Reaches One Day Trading Volume of $755.00|||2018-04-15T21:27:00.000+03:00\n",
      "TeslaCoilCoin (TESLA) Reaches One Day Trading Volume of $755.00|||2018-04-15T21:26:00.000+03:00\n",
      "Incompetence and deception in business|||2018-04-15T19:39:00.000+03:00\n",
      "My sets|||2018-04-15T20:31:00.000+03:00\n",
      "Why Tesla may be the most hated stock in America -- and the most loved – Political Reporter|||2018-04-15T10:46:00.000+03:00\n",
      "Elon Musk says Autopilot will never be perfect but can ‘reduce accidents by a factor of 10’|||2018-04-15T22:04:00.000+03:00\n",
      "Elon Musk says Autopilot will never be perfect but can ‘reduce accidents by a factor of 10’|||2018-04-15T22:04:00.000+03:00\n",
      "Syracuse Airport Envisions 13% Teslas At Airport Pickup/Dropoff, Amsterdam Airport = Almost 100% Today|||2018-04-16T00:51:00.000+03:00\n",
      "#Affiliate #Marketing, Ewen Chia Autopilot Profits|||2018-04-16T00:46:00.000+03:00\n",
      "Tesla challenger CHJ Auto teams up with Didi to build ride sharing cars|||2018-04-15T19:20:00.000+03:00\n",
      "Elon Musk says Autopilot will never be perfect but can ‘reduce accidents by a factor of 10’|||2018-04-15T22:04:00.000+03:00\n",
      "Elon Musk Offers Rare Look inside Model 3 Factory|||2018-04-15T23:04:00.000+03:00\n",
      "Pitt researcher secures nearly $5 million NIH funding for 'Tic-Tac-Toe' RF coil system|||2018-04-14T01:29:00.000+03:00\n",
      "Founder of TESLA makes record investment on Shark Tank|||2018-04-16T02:50:00.000+03:00\n",
      "On Friday, Elon Musk's (the CEO of Tesla ( TSLA )) Twitter a|||2018-04-16T05:40:00.000+03:00\n",
      "Tesla: Tesla has too many robots making Model 3|||2018-04-16T03:00:00.000+03:00\n",
      "Elon Musk says Autopilot will never be perfect but can ‘reduce accidents by a factor of 10’|||2018-04-16T03:04:00.000+03:00\n",
      "Tesla Autopilot will never be perfect, says Elon Musk|||2018-04-16T07:02:00.000+03:00\n",
      "Musk's Tesla venture polarizes market analysts|||2018-04-16T12:00:00.000+03:00\n",
      "Elon Musk Offers Rare Look inside Model 3 Factory|||2018-04-16T12:14:00.000+03:00\n",
      "Tesla batteries last longer than expected|||2018-04-16T08:57:00.000+03:00\n",
      "Tesla batteries last longer than expected|||2018-04-16T13:07:00.000+03:00\n",
      "My sets|||2018-04-16T13:56:00.000+03:00\n",
      "Misterios sin resolver Revelan Algo Increíble sobre el Verdadero Origen de Nikola Tesla - Profecias mayas nostradamus ovnis reales documentales pelis|||2018-04-16T09:46:00.000+03:00\n",
      "Tesla (NASDAQ:TSLA) Cut to “Buy” at Vetr|||2018-04-16T19:57:00.000+03:00\n",
      "Tesla battery degrading just slightly after 300,000km|||2018-04-16T15:13:00.000+03:00\n",
      "In the Midst of Model 3 Woes, Tesla Looks for Parts Suppliers for the Model Y; Hopes to Start Production in November 2019|||2018-04-15T18:00:00.000+03:00\n",
      "Tesla updates web browser for cars with Tegra-3 MCU|||2018-04-16T16:19:00.000+03:00\n",
      "Tesla updates web browser for cars with Tegra-3 MCU|||2018-04-16T16:24:00.000+03:00\n",
      "My sets|||2018-04-16T17:03:00.000+03:00\n",
      "Stocks|||2018-04-16T17:04:00.000+03:00\n",
      "Is Tesla Inc Stock Set to Plunge 35% to Multi-Year Lows?|||2018-04-16T16:55:00.000+03:00\n",
      "Tesla Blames Over-Reliance On Robots And Automation For Model 3 Production Delays|||2018-04-16T13:51:00.000+03:00\n",
      "Former Tesla Contractors File Discrimination Lawsuit Against The Company Claiming Racial Bias and Harassment|||2018-04-16T23:18:00.000+03:00\n",
      "electric vehicles, uni funding energy policy|||2018-04-15T22:30:00.000+03:00\n",
      "When will the $7,500 federal EV tax credit get cut for GM and Tesla? Soon|||2018-04-16T16:10:00.000+03:00\n",
      "Spring Alps in bright images. Photo|||2018-04-16T18:46:00.000+03:00\n",
      "Scientists have discovered a new property of brain cells|||2018-04-16T18:45:00.000+03:00\n",
      "Elon Musk says Autopilot will never be perfect but can ‘reduce accidents by a factor of 10’|||2018-04-16T03:04:00.000+03:00\n",
      "Owner survey suggests Tesla’s batteries see only limited degradation|||2018-04-16T19:40:00.000+03:00\n",
      "BRIEF-Tesla Inc Comments On Article Published In Reveal|||2018-04-16T20:40:00.000+03:00\n",
      "Tesla batteries last longer than expected - Fast Company|||2018-04-16T23:07:00.000+03:00\n",
      "Tesla reportedly failed to disclose some worker injuries at its factory|||2018-04-16T23:23:00.000+03:00\n",
      "Tesla CEO Misled Investors, Says Shareholder Lawsuit|||2018-04-16T12:38:00.000+03:00\n",
      "Tesla fires back after a scathing report alleges the company underreported injuries (TSLA)|||2018-04-16T23:01:00.000+03:00\n",
      "Tesla is accused of undercounting injuries at its Fremont factory|||2018-04-16T23:54:00.000+03:00\n",
      "Tesla reportedly failed to disclose some worker injuries at its factory|||2018-04-16T23:31:00.000+03:00\n",
      "Tesla Is Temporarily Shutting Down Model 3 Production. Again.|||2018-04-17T09:50:00.000+03:00\n",
      "New Study Shows Tesla Batteries Will Survive Longer than Expected|||2018-04-17T02:20:00.000+03:00\n",
      "Tesla Temporarily Shutting Down Model 3 Production: Buzzfeed|||2018-04-17T02:09:00.000+03:00\n",
      "Tesla temporarily shuts down Model 3 production - MarketWatch|||2018-04-16T03:00:00.000+03:00\n",
      "Tesla Temporarily Shutting Down Model 3 Production: Buzzfeed|||2018-04-17T02:09:00.000+03:00\n",
      "Tesla pauses Model 3 production for several days|||2018-04-17T02:24:00.000+03:00\n",
      "Tesla temporarily shuts down Model 3 production|||2018-04-17T02:26:00.000+03:00\n",
      "Tesla temporarily shuts down Model 3 production|||2018-04-17T02:26:00.000+03:00\n",
      "Tesla says Model 3 production shut down temporarily|||2018-04-17T02:47:00.000+03:00\n",
      "Tesla Temporarily Shutting Down Model 3 Production: Buzzfeed|||2018-04-17T02:09:00.000+03:00\n",
      "Tesla temporarily shuts down Model 3 assembly line|||2018-04-17T03:21:00.000+03:00\n",
      "Elon Musk blames Model 3 production delay on robots, says ‘humans are underrated’|||2018-04-17T03:30:00.000+03:00\n",
      "Tesla : says Model 3 production shut down temporarily|||2018-04-17T03:00:00.000+03:00\n",
      "Tesla : says Model 3 production shut down temporarily|||2018-04-17T03:00:00.000+03:00\n",
      "Tesla says Model 3 production shut down temporarily|||2018-04-17T03:14:00.000+03:00\n",
      "Tesla says Model 3 production shut down temporarily | News | 1450 99.7 WHTC|||2018-04-16T03:00:00.000+03:00\n",
      "Tesla says Model 3 production shut down temporarily | News | 1330 & 101.5 WHBL|||2018-04-16T03:00:00.000+03:00\n",
      "Tesla says Model 3 production shut down temporarily | News | WSAU|||2018-04-16T03:00:00.000+03:00\n",
      "UPDATE: Tesla temporarily shuts down Model 3 production|||2018-04-16T03:00:00.000+03:00\n",
      "Tesla says Model 3 production shut down temporarily | News | WTAQ|||2018-04-16T03:00:00.000+03:00\n",
      "Tesla temporarily shuts down Model 3 assembly line|||2018-04-17T03:36:00.000+03:00\n",
      "Tesla halts Model 3 production for a second time - MarketWatch|||2018-04-16T03:00:00.000+03:00\n",
      "Tesla says Model 3 production shut down temporarily|||2018-04-17T03:15:00.000+03:00\n",
      "Tesla halts Model 3 production for a second time|||2018-04-17T04:04:00.000+03:00\n",
      "Elon Musk blames Model 3 production delay on robots, says ‘humans are underrated’|||2018-04-17T03:30:00.000+03:00\n",
      "Research finds that Model S and Model X batteries last even longer than we thought|||2018-04-17T04:31:00.000+03:00\n",
      "Tesla says Model 3 production shut down temporarily|||2018-04-17T03:35:00.000+03:00\n",
      "Tesla says Model 3 production shut down temporarily|||2018-04-17T04:10:00.000+03:00\n",
      "UPDATE: Tesla temporarily shuts down Model 3 production|||2018-04-16T03:00:00.000+03:00\n",
      "Tesla pauses Model 3 production|||2018-04-17T03:24:00.000+03:00\n",
      "Tesla halts Model 3 production for a second time|||2018-04-16T03:00:00.000+03:00\n",
      "Research finds that Model S and Model X batteries last even longer than we thought – BGR|||2018-04-17T04:53:00.000+03:00\n",
      "Tesla temporarily halts Model 3 production|||2018-04-17T04:32:00.000+03:00\n",
      "Tesla says Model 3 production shut down temporarily | News | WIBQ|||2018-04-16T03:00:00.000+03:00\n",
      "Research finds that Model S and Model X batteries last even longer than we thought|||2018-04-17T04:31:00.000+03:00\n",
      "Tesla is temporarily stopping production of the Model 3|||2018-04-17T04:56:00.000+03:00\n",
      "Analysis: AVs Creating Major Legal Concerns for OEMs|||2018-04-16T07:00:00.000+03:00\n",
      "Tesla temporarily suspends Model 3 assembly line to ramp up production and address bottlenecks|||2018-04-17T05:32:00.000+03:00\n",
      "Tesla batteries may retain 90 percent charge after 160,000 miles|||2018-04-17T05:45:00.000+03:00\n",
      "Tesla on temporary Model 3 production shutdown: Nothing to see here|||2018-04-17T10:07:00.000+03:00\n",
      "Tesla on temporary Model 3 production shutdown: Nothing to see here|||2018-04-17T05:07:00.000+03:00\n"
     ]
    }
   ],
   "source": [
    "### Pls ignore - using the old Json file created for HW4\n",
    "for feed in output['posts']:\n",
    "    print(str(feed['title']) + '|||' + str(feed['published']))"
   ]
  }
 ],
 "metadata": {
  "kernelspec": {
   "display_name": "Python 3",
   "language": "python",
   "name": "python3"
  },
  "language_info": {
   "codemirror_mode": {
    "name": "ipython",
    "version": 3
   },
   "file_extension": ".py",
   "mimetype": "text/x-python",
   "name": "python",
   "nbconvert_exporter": "python",
   "pygments_lexer": "ipython3",
   "version": "3.6.4"
  }
 },
 "nbformat": 4,
 "nbformat_minor": 2
}
